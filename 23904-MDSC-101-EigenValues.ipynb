{
 "cells": [
  {
   "cell_type": "code",
   "execution_count": 4,
   "id": "12168722",
   "metadata": {},
   "outputs": [
    {
     "name": "stdout",
     "output_type": "stream",
     "text": [
      "Eigen Values: [ 9.62347538e+00 -6.23475383e-01  5.06426348e-16]\n",
      "eigen Vectors: [[-0.38508979 -0.82767094  0.40824829]\n",
      " [-0.55951021 -0.14241368 -0.81649658]\n",
      " [-0.73393063  0.54284358  0.40824829]]\n"
     ]
    }
   ],
   "source": [
    "import numpy as np\n",
    "from numpy import linalg as la\n",
    "\n",
    "evalues, evectors = la.eig(np.array([[1,2,3],[2,3,4],[3,4,5]]))\n",
    "print(\"Eigen Values:\",evalues)\n",
    "print(\"eigen Vectors:\",evectors)"
   ]
  },
  {
   "cell_type": "code",
   "execution_count": 7,
   "id": "f491068e",
   "metadata": {},
   "outputs": [
    {
     "name": "stdout",
     "output_type": "stream",
     "text": [
      "Array : [[1. 1. 1. 1.]\n",
      " [2. 2. 2. 2.]\n",
      " [0. 6. 6. 6.]\n",
      " [8. 0. 5. 5.]]\n",
      "Factors of the given array by SVD :\n",
      "\n",
      "U =  [[-1.4187919e-01 -1.0973688e-02  4.2396918e-01 -8.9442718e-01]\n",
      " [-2.8375837e-01 -2.1947376e-02  8.4793836e-01  4.4721359e-01]\n",
      " [-6.5596479e-01 -7.1626824e-01 -2.3805468e-01 -4.4408921e-16]\n",
      " [-6.8488079e-01  6.9739354e-01 -2.1114115e-01 -4.4408921e-16]] \n",
      "s =  [1.3788077e+01 7.1386232e+00 9.6383584e-01 6.3202687e-17] \n",
      "V =  [[-4.4882560e-01 -3.3689865e-01 -5.8525842e-01 -5.8525842e-01]\n",
      " [ 7.7385783e-01 -6.0970825e-01 -1.2124329e-01 -1.2124329e-01]\n",
      " [ 4.4687763e-01  7.1746439e-01 -3.7785265e-01 -3.7785265e-01]\n",
      " [-0.0000000e+00  5.9859117e-17  7.0710677e-01 -7.0710677e-01]]\n"
     ]
    }
   ],
   "source": [
    "from numpy import linalg as la\n",
    "\n",
    "arr = np.array([[1,1,1,1],[2,2,2,2],[0,6,6,6],[8,0,5,5]],dtype=np.float32)\n",
    "print(\"Array :\",arr)\n",
    "U,s,V = la.svd(arr,full_matrices=False)\n",
    "print(\"Factors of the given array by SVD :\")\n",
    "print(\"\\nU = \",U,\"\\ns = \",s,\"\\nV = \",V)"
   ]
  },
  {
   "cell_type": "code",
   "execution_count": 8,
   "id": "a569282a",
   "metadata": {},
   "outputs": [
    {
     "name": "stdout",
     "output_type": "stream",
     "text": [
      "Enter the size of the matrix:3\n",
      "Enter the 0 row elements:1 2 3\n",
      "Enter the 1 row elements:2 3 4\n",
      "Enter the 2 row elements:3 4 5\n",
      "[[1, 2, 3], [2, 3, 4], [3, 4, 5]]\n",
      "Eigen Values of the given matrix is:\n",
      " [ 9.62347538e+00 -6.23475383e-01  5.06426348e-16]\n",
      "Eigen Vectorsof the given matrix is:\n",
      " [[-0.38508979 -0.82767094  0.40824829]\n",
      " [-0.55951021 -0.14241368 -0.81649658]\n",
      " [-0.73393063  0.54284358  0.40824829]]\n",
      "\n",
      "Factors of the given array by SVD :\n",
      "\n",
      "U =  [[-0.38508979  0.82767094  0.40824829]\n",
      " [-0.55951021  0.14241368 -0.81649658]\n",
      " [-0.73393063 -0.54284358  0.40824829]] \n",
      "s =  [9.62347538e+00 6.23475383e-01 3.97943080e-16] \n",
      "V =  [[-0.38508979 -0.55951021 -0.73393063]\n",
      " [-0.82767094 -0.14241368  0.54284358]\n",
      " [ 0.40824829 -0.81649658  0.40824829]]\n"
     ]
    }
   ],
   "source": [
    "matrix = []\n",
    "x = int(input('Enter the size of the matrix:'))\n",
    "for i in range(x):\n",
    "    m = list(map(int,input(f\"Enter the {i} row elements:\").split()))\n",
    "    if len(m) != x:\n",
    "        print('Error')\n",
    "    matrix.append(m)\n",
    "print(matrix)\n",
    "evalues, evectors = np.linalg.eig(matrix)\n",
    "print(\"Eigen Values of the given matrix is:\\n\",evalues)\n",
    "print(\"Eigen Vectorsof the given matrix is:\\n\",evectors)\n",
    "print()\n",
    "U,s,V = np.linalg.svd(matrix,full_matrices=False)\n",
    "print(\"Factors of the given array by SVD :\")\n",
    "print(\"\\nU = \",U,\"\\ns = \",s,\"\\nV = \",V)"
   ]
  },
  {
   "cell_type": "code",
   "execution_count": 9,
   "id": "746d8c37",
   "metadata": {},
   "outputs": [
    {
     "data": {
      "text/plain": [
       "(array([[-0.38508979,  0.82767094,  0.40824829],\n",
       "        [-0.55951021,  0.14241368, -0.81649658],\n",
       "        [-0.73393063, -0.54284358,  0.40824829]]),\n",
       " array([9.62347538e+00, 6.23475383e-01, 3.97943080e-16]),\n",
       " array([[-0.38508979, -0.55951021, -0.73393063],\n",
       "        [-0.82767094, -0.14241368,  0.54284358],\n",
       "        [ 0.40824829, -0.81649658,  0.40824829]]))"
      ]
     },
     "execution_count": 9,
     "metadata": {},
     "output_type": "execute_result"
    }
   ],
   "source": [
    "la.svd(matrix)"
   ]
  },
  {
   "cell_type": "code",
   "execution_count": null,
   "id": "17ceb47e",
   "metadata": {},
   "outputs": [],
   "source": [
    "$ Finding the Eigen values and eigen vectors for the user given input $\n"
   ]
  }
 ],
 "metadata": {
  "kernelspec": {
   "display_name": "Python 3 (ipykernel)",
   "language": "python",
   "name": "python3"
  },
  "language_info": {
   "codemirror_mode": {
    "name": "ipython",
    "version": 3
   },
   "file_extension": ".py",
   "mimetype": "text/x-python",
   "name": "python",
   "nbconvert_exporter": "python",
   "pygments_lexer": "ipython3",
   "version": "3.10.9"
  }
 },
 "nbformat": 4,
 "nbformat_minor": 5
}
